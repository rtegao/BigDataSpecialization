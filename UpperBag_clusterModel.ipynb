{
  "nbformat": 4,
  "nbformat_minor": 0,
  "metadata": {
    "colab": {
      "name": "UpperBag_clusterModel.ipynb",
      "provenance": [],
      "mount_file_id": "1f9_5lX27IlBIHVxyzVhzAUNN8UBqd0Id",
      "authorship_tag": "ABX9TyOjuyBqjhRZxpEbC23OWF9b",
      "include_colab_link": true
    },
    "kernelspec": {
      "name": "python3",
      "display_name": "Python 3"
    }
  },
  "cells": [
    {
      "cell_type": "markdown",
      "metadata": {
        "id": "view-in-github",
        "colab_type": "text"
      },
      "source": [
        "<a href=\"https://colab.research.google.com/github/rtegao/BigDataSpecialization/blob/main/UpperBag_clusterModel.ipynb\" target=\"_parent\"><img src=\"https://colab.research.google.com/assets/colab-badge.svg\" alt=\"Open In Colab\"/></a>"
      ]
    },
    {
      "cell_type": "markdown",
      "metadata": {
        "id": "PZD3KygqFsb4"
      },
      "source": [
        "# importing Libraries"
      ]
    },
    {
      "cell_type": "code",
      "metadata": {
        "colab": {
          "base_uri": "https://localhost:8080/"
        },
        "id": "qJR5xPEsFeln",
        "outputId": "d762edf0-353f-4aee-c6d3-e12913193efd"
      },
      "source": [
        "import pandas as pd \n",
        "import numpy as np\n",
        "import statistics\n",
        "\n",
        "from datetime import date\n",
        "\n",
        "from sklearn.preprocessing import MinMaxScaler\n",
        "from sklearn.cluster import KMeans\n",
        "from yellowbrick.cluster import KElbowVisualizer\n",
        "\n",
        "import plotly.graph_objects as go"
      ],
      "execution_count": 1,
      "outputs": [
        {
          "output_type": "stream",
          "text": [
            "/usr/local/lib/python3.6/dist-packages/sklearn/utils/deprecation.py:144: FutureWarning: The sklearn.metrics.classification module is  deprecated in version 0.22 and will be removed in version 0.24. The corresponding classes / functions should instead be imported from sklearn.metrics. Anything that cannot be imported from sklearn.metrics is now part of the private API.\n",
            "  warnings.warn(message, FutureWarning)\n"
          ],
          "name": "stderr"
        }
      ]
    },
    {
      "cell_type": "markdown",
      "metadata": {
        "id": "nuRzHlk2F4bp"
      },
      "source": [
        "# Importing Data"
      ]
    },
    {
      "cell_type": "code",
      "metadata": {
        "colab": {
          "base_uri": "https://localhost:8080/"
        },
        "id": "9reagnHXF348",
        "outputId": "71c573b1-161f-4652-e564-63dcf47b0f45"
      },
      "source": [
        "path = '/content/drive/MyDrive/Personal Project/Upperbag/Data/Clean/'\n",
        "\n",
        "#customer\n",
        "df_fem = pd.read_csv( path + 'feminino_secure.csv' )\n",
        "df_masc = pd.read_csv( path + 'masculino_secure.csv' )\n",
        "\n",
        "#stock\n",
        "df_stock_hist = pd.read_csv( path + 'estoque.csv' )\n",
        "df_stock_actual = pd.read_csv( path + 'situacao_estoque.csv' )\n",
        "\n",
        "#questions\n",
        "df_quest_masc = pd.read_csv( path + 'quest_fem_secure.csv' )\n",
        "df_quest_fem = pd.read_csv( path + 'quest_masc_secure.csv' )"
      ],
      "execution_count": 2,
      "outputs": [
        {
          "output_type": "stream",
          "text": [
            "/usr/local/lib/python3.6/dist-packages/IPython/core/interactiveshell.py:2718: DtypeWarning:\n",
            "\n",
            "Columns (17,18,19,24,25,26,28,29,37,40,41) have mixed types.Specify dtype option on import or set low_memory=False.\n",
            "\n",
            "/usr/local/lib/python3.6/dist-packages/IPython/core/interactiveshell.py:2718: DtypeWarning:\n",
            "\n",
            "Columns (8,15,17,18,19,20,24,25,26,29,30,31,32,33,34,35,40) have mixed types.Specify dtype option on import or set low_memory=False.\n",
            "\n"
          ],
          "name": "stderr"
        }
      ]
    },
    {
      "cell_type": "markdown",
      "metadata": {
        "id": "Q2NmEchi6A2m"
      },
      "source": [
        "# RFP Segmentation\n",
        "\n",
        "- R = Recency\n",
        "- F = Frequency\n",
        "- P = Profit"
      ]
    },
    {
      "cell_type": "markdown",
      "metadata": {
        "id": "dS3VT8x84qng"
      },
      "source": [
        "## Data Preparation"
      ]
    },
    {
      "cell_type": "code",
      "metadata": {
        "id": "HFEqKO0S79aN"
      },
      "source": [
        "df_fem = df_fem[['nm_cliente','dt_entrega','qtd_bags_enviadas','qtd_produtos_bag','mkup','flag_compra']]\n",
        "df_masc = df_masc[['nm_cliente','dt_entrega','qtd_bags_enviadas','qtd_produtos_bag','mkup','flag_compra']]"
      ],
      "execution_count": 3,
      "outputs": []
    },
    {
      "cell_type": "markdown",
      "metadata": {
        "id": "D6eOuUGP8ggh"
      },
      "source": [
        "### Cleaning and Format"
      ]
    },
    {
      "cell_type": "markdown",
      "metadata": {
        "id": "ZEeG3ewF8XDn"
      },
      "source": [
        "#### mkup cleaning"
      ]
    },
    {
      "cell_type": "code",
      "metadata": {
        "id": "cxnJcTVB8WK2"
      },
      "source": [
        "#dropna\n",
        "df_fem = df_fem[~df_fem['mkup'].isna()].reset_index(drop = True)\n",
        "df_masc = df_masc[~df_masc['mkup'].isna()].reset_index(drop = True)\n",
        "\n",
        "#cleaning errors\n",
        "df_fem = df_fem.drop(list(df_fem[df_fem['mkup'] == '#div/0!'].index)).reset_index(drop = True)\n",
        "df_masc = df_masc.drop(list(df_masc[df_masc['mkup'] == '#div/0!'].index)).reset_index(drop = True)\n",
        "\n",
        "# convert to float\n",
        "df_fem['mkup'] = df_fem['mkup'].astype(float)\n",
        "df_masc['mkup'] = df_masc['mkup'].astype(float)"
      ],
      "execution_count": 4,
      "outputs": []
    },
    {
      "cell_type": "markdown",
      "metadata": {
        "id": "_CTmR6Pe5Plr"
      },
      "source": [
        "#### Convert date, string do date time"
      ]
    },
    {
      "cell_type": "code",
      "metadata": {
        "id": "hZ8zW5sK4pvD"
      },
      "source": [
        "df_fem['dt_entrega'] = pd.to_datetime(df_fem['dt_entrega'])\n",
        "# df_fem['dt_retirada'] = pd.to_datetime(df_fem['dt_retirada'])\n",
        "\n",
        "df_masc['dt_entrega'] = pd.to_datetime(df_masc['dt_entrega'])\n",
        "# df_masc['dt_entrega'] = pd.to_datetime(df_masc['dt_entrega'])"
      ],
      "execution_count": 5,
      "outputs": []
    },
    {
      "cell_type": "markdown",
      "metadata": {
        "id": "MmBqktcN5Wwm"
      },
      "source": [
        "### Recency"
      ]
    },
    {
      "cell_type": "code",
      "metadata": {
        "id": "cbPw4ZoxcYVM"
      },
      "source": [
        "df_fem = df_fem[~df_fem['dt_entrega'].isna()].reset_index(drop = True)\n",
        "df_masc = df_masc[~df_masc['dt_entrega'].isna()].reset_index(drop = True)"
      ],
      "execution_count": 6,
      "outputs": []
    },
    {
      "cell_type": "code",
      "metadata": {
        "colab": {
          "base_uri": "https://localhost:8080/"
        },
        "id": "6aTGON4o5WLK",
        "outputId": "746b8d58-9c11-4d28-9df7-344384368bd3"
      },
      "source": [
        "today = date.today()\n",
        "today"
      ],
      "execution_count": 7,
      "outputs": [
        {
          "output_type": "execute_result",
          "data": {
            "text/plain": [
              "datetime.date(2020, 12, 7)"
            ]
          },
          "metadata": {
            "tags": []
          },
          "execution_count": 7
        }
      ]
    },
    {
      "cell_type": "code",
      "metadata": {
        "colab": {
          "base_uri": "https://localhost:8080/"
        },
        "id": "CG5SISWiCBZ-",
        "outputId": "cec308d1-b552-4747-a11b-f07fc20cf5e6"
      },
      "source": [
        "df_fem['recency'] = (pd.datetime.now() - df_fem['dt_entrega']).dt.days\n",
        "df_masc['recency'] = (pd.datetime.now() - df_masc['dt_entrega']).dt.days"
      ],
      "execution_count": 8,
      "outputs": [
        {
          "output_type": "stream",
          "text": [
            "/usr/local/lib/python3.6/dist-packages/ipykernel_launcher.py:1: FutureWarning:\n",
            "\n",
            "The pandas.datetime class is deprecated and will be removed from pandas in a future version. Import from datetime instead.\n",
            "\n",
            "/usr/local/lib/python3.6/dist-packages/ipykernel_launcher.py:2: FutureWarning:\n",
            "\n",
            "The pandas.datetime class is deprecated and will be removed from pandas in a future version. Import from datetime instead.\n",
            "\n"
          ],
          "name": "stderr"
        }
      ]
    },
    {
      "cell_type": "markdown",
      "metadata": {
        "id": "qEc3rS5NDhlM"
      },
      "source": [
        "### Profit"
      ]
    },
    {
      "cell_type": "code",
      "metadata": {
        "id": "DAJTedMYDnU_"
      },
      "source": [
        "df_fem.loc[df_fem[df_fem['flag_compra'] == False].index,'mkup'] = df_fem[df_fem['flag_compra'] == False]['mkup']*-1\n",
        "df_masc.loc[df_masc[df_masc['flag_compra'] == False].index,'mkup'] = df_masc[df_masc['flag_compra'] == False]['mkup']*-1"
      ],
      "execution_count": 9,
      "outputs": []
    },
    {
      "cell_type": "code",
      "metadata": {
        "id": "-HQyK4hVDndc"
      },
      "source": [
        "df_aux_fem = df_fem[['nm_cliente','mkup']].groupby('nm_cliente').sum().reset_index().rename(columns = {'mkup':'profit'})\n",
        "df_aux_masc = df_masc[['nm_cliente','mkup']].groupby('nm_cliente').sum().reset_index().rename(columns = {'mkup':'profit'})"
      ],
      "execution_count": 10,
      "outputs": []
    },
    {
      "cell_type": "code",
      "metadata": {
        "id": "P5JA328X4lkB"
      },
      "source": [
        "df_fem = df_fem.merge(df_aux_fem, left_on = 'nm_cliente',right_on = 'nm_cliente', how = 'inner')\n",
        "df_masc = df_masc.merge(df_aux_masc, left_on = 'nm_cliente',right_on = 'nm_cliente', how = 'inner')"
      ],
      "execution_count": 11,
      "outputs": []
    },
    {
      "cell_type": "code",
      "metadata": {
        "colab": {
          "base_uri": "https://localhost:8080/",
          "height": 419
        },
        "id": "J4_r2qsw4lnS",
        "outputId": "2a4e43c3-938a-499c-939a-590e4393a6c0"
      },
      "source": [
        "df_fem"
      ],
      "execution_count": 12,
      "outputs": [
        {
          "output_type": "execute_result",
          "data": {
            "text/html": [
              "<div>\n",
              "<style scoped>\n",
              "    .dataframe tbody tr th:only-of-type {\n",
              "        vertical-align: middle;\n",
              "    }\n",
              "\n",
              "    .dataframe tbody tr th {\n",
              "        vertical-align: top;\n",
              "    }\n",
              "\n",
              "    .dataframe thead th {\n",
              "        text-align: right;\n",
              "    }\n",
              "</style>\n",
              "<table border=\"1\" class=\"dataframe\">\n",
              "  <thead>\n",
              "    <tr style=\"text-align: right;\">\n",
              "      <th></th>\n",
              "      <th>nm_cliente</th>\n",
              "      <th>dt_entrega</th>\n",
              "      <th>qtd_bags_enviadas</th>\n",
              "      <th>qtd_produtos_bag</th>\n",
              "      <th>mkup</th>\n",
              "      <th>flag_compra</th>\n",
              "      <th>recency</th>\n",
              "      <th>profit</th>\n",
              "    </tr>\n",
              "  </thead>\n",
              "  <tbody>\n",
              "    <tr>\n",
              "      <th>0</th>\n",
              "      <td>7db2e5a328c0f5112f6e0f6de21d7b2f412de1a6de5210...</td>\n",
              "      <td>2020-09-28</td>\n",
              "      <td>2.0</td>\n",
              "      <td>71.0</td>\n",
              "      <td>2.00</td>\n",
              "      <td>True</td>\n",
              "      <td>70</td>\n",
              "      <td>176.35</td>\n",
              "    </tr>\n",
              "    <tr>\n",
              "      <th>1</th>\n",
              "      <td>7db2e5a328c0f5112f6e0f6de21d7b2f412de1a6de5210...</td>\n",
              "      <td>2020-09-28</td>\n",
              "      <td>2.0</td>\n",
              "      <td>71.0</td>\n",
              "      <td>3.44</td>\n",
              "      <td>True</td>\n",
              "      <td>70</td>\n",
              "      <td>176.35</td>\n",
              "    </tr>\n",
              "    <tr>\n",
              "      <th>2</th>\n",
              "      <td>7db2e5a328c0f5112f6e0f6de21d7b2f412de1a6de5210...</td>\n",
              "      <td>2020-09-28</td>\n",
              "      <td>2.0</td>\n",
              "      <td>71.0</td>\n",
              "      <td>2.30</td>\n",
              "      <td>True</td>\n",
              "      <td>70</td>\n",
              "      <td>176.35</td>\n",
              "    </tr>\n",
              "    <tr>\n",
              "      <th>3</th>\n",
              "      <td>7db2e5a328c0f5112f6e0f6de21d7b2f412de1a6de5210...</td>\n",
              "      <td>2020-09-28</td>\n",
              "      <td>2.0</td>\n",
              "      <td>71.0</td>\n",
              "      <td>2.50</td>\n",
              "      <td>True</td>\n",
              "      <td>70</td>\n",
              "      <td>176.35</td>\n",
              "    </tr>\n",
              "    <tr>\n",
              "      <th>4</th>\n",
              "      <td>7db2e5a328c0f5112f6e0f6de21d7b2f412de1a6de5210...</td>\n",
              "      <td>2020-09-28</td>\n",
              "      <td>2.0</td>\n",
              "      <td>71.0</td>\n",
              "      <td>2.00</td>\n",
              "      <td>True</td>\n",
              "      <td>70</td>\n",
              "      <td>176.35</td>\n",
              "    </tr>\n",
              "    <tr>\n",
              "      <th>...</th>\n",
              "      <td>...</td>\n",
              "      <td>...</td>\n",
              "      <td>...</td>\n",
              "      <td>...</td>\n",
              "      <td>...</td>\n",
              "      <td>...</td>\n",
              "      <td>...</td>\n",
              "      <td>...</td>\n",
              "    </tr>\n",
              "    <tr>\n",
              "      <th>72637</th>\n",
              "      <td>87518198806a6c50f55485f1423a9342697349e513f49c...</td>\n",
              "      <td>2019-07-26</td>\n",
              "      <td>1.0</td>\n",
              "      <td>62.0</td>\n",
              "      <td>1.69</td>\n",
              "      <td>True</td>\n",
              "      <td>500</td>\n",
              "      <td>141.36</td>\n",
              "    </tr>\n",
              "    <tr>\n",
              "      <th>72638</th>\n",
              "      <td>87518198806a6c50f55485f1423a9342697349e513f49c...</td>\n",
              "      <td>2019-07-26</td>\n",
              "      <td>1.0</td>\n",
              "      <td>62.0</td>\n",
              "      <td>1.38</td>\n",
              "      <td>True</td>\n",
              "      <td>500</td>\n",
              "      <td>141.36</td>\n",
              "    </tr>\n",
              "    <tr>\n",
              "      <th>72639</th>\n",
              "      <td>87518198806a6c50f55485f1423a9342697349e513f49c...</td>\n",
              "      <td>2019-07-26</td>\n",
              "      <td>1.0</td>\n",
              "      <td>62.0</td>\n",
              "      <td>1.72</td>\n",
              "      <td>True</td>\n",
              "      <td>500</td>\n",
              "      <td>141.36</td>\n",
              "    </tr>\n",
              "    <tr>\n",
              "      <th>72640</th>\n",
              "      <td>87518198806a6c50f55485f1423a9342697349e513f49c...</td>\n",
              "      <td>2019-07-26</td>\n",
              "      <td>1.0</td>\n",
              "      <td>62.0</td>\n",
              "      <td>1.74</td>\n",
              "      <td>True</td>\n",
              "      <td>500</td>\n",
              "      <td>141.36</td>\n",
              "    </tr>\n",
              "    <tr>\n",
              "      <th>72641</th>\n",
              "      <td>87518198806a6c50f55485f1423a9342697349e513f49c...</td>\n",
              "      <td>2019-07-26</td>\n",
              "      <td>1.0</td>\n",
              "      <td>62.0</td>\n",
              "      <td>1.79</td>\n",
              "      <td>True</td>\n",
              "      <td>500</td>\n",
              "      <td>141.36</td>\n",
              "    </tr>\n",
              "  </tbody>\n",
              "</table>\n",
              "<p>72642 rows × 8 columns</p>\n",
              "</div>"
            ],
            "text/plain": [
              "                                              nm_cliente  ...  profit\n",
              "0      7db2e5a328c0f5112f6e0f6de21d7b2f412de1a6de5210...  ...  176.35\n",
              "1      7db2e5a328c0f5112f6e0f6de21d7b2f412de1a6de5210...  ...  176.35\n",
              "2      7db2e5a328c0f5112f6e0f6de21d7b2f412de1a6de5210...  ...  176.35\n",
              "3      7db2e5a328c0f5112f6e0f6de21d7b2f412de1a6de5210...  ...  176.35\n",
              "4      7db2e5a328c0f5112f6e0f6de21d7b2f412de1a6de5210...  ...  176.35\n",
              "...                                                  ...  ...     ...\n",
              "72637  87518198806a6c50f55485f1423a9342697349e513f49c...  ...  141.36\n",
              "72638  87518198806a6c50f55485f1423a9342697349e513f49c...  ...  141.36\n",
              "72639  87518198806a6c50f55485f1423a9342697349e513f49c...  ...  141.36\n",
              "72640  87518198806a6c50f55485f1423a9342697349e513f49c...  ...  141.36\n",
              "72641  87518198806a6c50f55485f1423a9342697349e513f49c...  ...  141.36\n",
              "\n",
              "[72642 rows x 8 columns]"
            ]
          },
          "metadata": {
            "tags": []
          },
          "execution_count": 12
        }
      ]
    },
    {
      "cell_type": "markdown",
      "metadata": {
        "id": "pOneFJaYYJDp"
      },
      "source": [
        "### Frequency"
      ]
    },
    {
      "cell_type": "code",
      "metadata": {
        "id": "FCKp6hSpYWrJ"
      },
      "source": [
        "df_fem = df_fem.drop(columns=['flag_compra','mkup']).drop_duplicates()\n",
        "df_masc = df_masc.drop(columns=['flag_compra','mkup']).drop_duplicates()"
      ],
      "execution_count": 13,
      "outputs": []
    },
    {
      "cell_type": "code",
      "metadata": {
        "id": "3NpqhYsDYWtp"
      },
      "source": [
        "df_aux_fem = df_fem.groupby('nm_cliente').count().reset_index()[df_fem.groupby('nm_cliente').count().reset_index()['dt_entrega'] > 1]\n",
        "df_aux_masc = df_masc.groupby('nm_cliente').count().reset_index()[df_masc.groupby('nm_cliente').count().reset_index()['dt_entrega'] > 1]"
      ],
      "execution_count": 14,
      "outputs": []
    },
    {
      "cell_type": "code",
      "metadata": {
        "colab": {
          "base_uri": "https://localhost:8080/",
          "height": 419
        },
        "id": "X51Z_h9fYWwd",
        "outputId": "644974ef-1402-4c50-81af-a5cead78ba77"
      },
      "source": [
        "df_aux_masc"
      ],
      "execution_count": 15,
      "outputs": [
        {
          "output_type": "execute_result",
          "data": {
            "text/html": [
              "<div>\n",
              "<style scoped>\n",
              "    .dataframe tbody tr th:only-of-type {\n",
              "        vertical-align: middle;\n",
              "    }\n",
              "\n",
              "    .dataframe tbody tr th {\n",
              "        vertical-align: top;\n",
              "    }\n",
              "\n",
              "    .dataframe thead th {\n",
              "        text-align: right;\n",
              "    }\n",
              "</style>\n",
              "<table border=\"1\" class=\"dataframe\">\n",
              "  <thead>\n",
              "    <tr style=\"text-align: right;\">\n",
              "      <th></th>\n",
              "      <th>nm_cliente</th>\n",
              "      <th>dt_entrega</th>\n",
              "      <th>qtd_bags_enviadas</th>\n",
              "      <th>qtd_produtos_bag</th>\n",
              "      <th>recency</th>\n",
              "      <th>profit</th>\n",
              "    </tr>\n",
              "  </thead>\n",
              "  <tbody>\n",
              "    <tr>\n",
              "      <th>0</th>\n",
              "      <td>001f63c8a3b7521b264d665011eda5e3279a2da88e59a3...</td>\n",
              "      <td>2</td>\n",
              "      <td>0</td>\n",
              "      <td>2</td>\n",
              "      <td>2</td>\n",
              "      <td>2</td>\n",
              "    </tr>\n",
              "    <tr>\n",
              "      <th>20</th>\n",
              "      <td>06293b66ad4d16ed93976a430c7f4ca079bd5d3adac4b4...</td>\n",
              "      <td>3</td>\n",
              "      <td>1</td>\n",
              "      <td>3</td>\n",
              "      <td>3</td>\n",
              "      <td>3</td>\n",
              "    </tr>\n",
              "    <tr>\n",
              "      <th>23</th>\n",
              "      <td>06505285e0ab1d192f48cd165ed706f5d72805d971289d...</td>\n",
              "      <td>3</td>\n",
              "      <td>0</td>\n",
              "      <td>3</td>\n",
              "      <td>3</td>\n",
              "      <td>3</td>\n",
              "    </tr>\n",
              "    <tr>\n",
              "      <th>26</th>\n",
              "      <td>06fe88a2bfe3c51d9d0af905c627a51a4c69bed9d24119...</td>\n",
              "      <td>2</td>\n",
              "      <td>1</td>\n",
              "      <td>2</td>\n",
              "      <td>2</td>\n",
              "      <td>2</td>\n",
              "    </tr>\n",
              "    <tr>\n",
              "      <th>29</th>\n",
              "      <td>0831c6c55f54b138b1196cba030eeb2ee9ee7077807fb9...</td>\n",
              "      <td>2</td>\n",
              "      <td>0</td>\n",
              "      <td>2</td>\n",
              "      <td>2</td>\n",
              "      <td>2</td>\n",
              "    </tr>\n",
              "    <tr>\n",
              "      <th>...</th>\n",
              "      <td>...</td>\n",
              "      <td>...</td>\n",
              "      <td>...</td>\n",
              "      <td>...</td>\n",
              "      <td>...</td>\n",
              "      <td>...</td>\n",
              "    </tr>\n",
              "    <tr>\n",
              "      <th>1296</th>\n",
              "      <td>f90e90cbb881668c1662adb900f1952213cc167119d986...</td>\n",
              "      <td>2</td>\n",
              "      <td>1</td>\n",
              "      <td>2</td>\n",
              "      <td>2</td>\n",
              "      <td>2</td>\n",
              "    </tr>\n",
              "    <tr>\n",
              "      <th>1304</th>\n",
              "      <td>faa0fabf4e020302aeae3832f4b933064639663ea27450...</td>\n",
              "      <td>2</td>\n",
              "      <td>1</td>\n",
              "      <td>2</td>\n",
              "      <td>2</td>\n",
              "      <td>2</td>\n",
              "    </tr>\n",
              "    <tr>\n",
              "      <th>1305</th>\n",
              "      <td>fb7e3cb3f544a86dea307fa2572b1b4eae17186f988d2d...</td>\n",
              "      <td>2</td>\n",
              "      <td>1</td>\n",
              "      <td>2</td>\n",
              "      <td>2</td>\n",
              "      <td>2</td>\n",
              "    </tr>\n",
              "    <tr>\n",
              "      <th>1308</th>\n",
              "      <td>fbfa79f3bd641421102b44558a42197a035276d6e9fc43...</td>\n",
              "      <td>2</td>\n",
              "      <td>0</td>\n",
              "      <td>2</td>\n",
              "      <td>2</td>\n",
              "      <td>2</td>\n",
              "    </tr>\n",
              "    <tr>\n",
              "      <th>1317</th>\n",
              "      <td>fdf31186fb636e396169145f31568f9676b657f1e4d6c0...</td>\n",
              "      <td>2</td>\n",
              "      <td>2</td>\n",
              "      <td>2</td>\n",
              "      <td>2</td>\n",
              "      <td>2</td>\n",
              "    </tr>\n",
              "  </tbody>\n",
              "</table>\n",
              "<p>226 rows × 6 columns</p>\n",
              "</div>"
            ],
            "text/plain": [
              "                                             nm_cliente  ...  profit\n",
              "0     001f63c8a3b7521b264d665011eda5e3279a2da88e59a3...  ...       2\n",
              "20    06293b66ad4d16ed93976a430c7f4ca079bd5d3adac4b4...  ...       3\n",
              "23    06505285e0ab1d192f48cd165ed706f5d72805d971289d...  ...       3\n",
              "26    06fe88a2bfe3c51d9d0af905c627a51a4c69bed9d24119...  ...       2\n",
              "29    0831c6c55f54b138b1196cba030eeb2ee9ee7077807fb9...  ...       2\n",
              "...                                                 ...  ...     ...\n",
              "1296  f90e90cbb881668c1662adb900f1952213cc167119d986...  ...       2\n",
              "1304  faa0fabf4e020302aeae3832f4b933064639663ea27450...  ...       2\n",
              "1305  fb7e3cb3f544a86dea307fa2572b1b4eae17186f988d2d...  ...       2\n",
              "1308  fbfa79f3bd641421102b44558a42197a035276d6e9fc43...  ...       2\n",
              "1317  fdf31186fb636e396169145f31568f9676b657f1e4d6c0...  ...       2\n",
              "\n",
              "[226 rows x 6 columns]"
            ]
          },
          "metadata": {
            "tags": []
          },
          "execution_count": 15
        }
      ]
    },
    {
      "cell_type": "code",
      "metadata": {
        "id": "RQrPRGqW4lqe"
      },
      "source": [
        "#feminino\n",
        "df_fem['frequency'] = np.nan\n",
        "for client in list(df_aux_fem['nm_cliente'].unique()):\n",
        "  aux_list = []\n",
        "  for i in range(df_fem[df_fem['nm_cliente'] == client].shape[0] - 1):\n",
        "    recency = list(df_fem[df_fem['nm_cliente'] == client].sort_values(by = 'recency',ascending = False)['recency'])\n",
        "    aux_list.append(recency[i] - recency[i+1])\n",
        "\n",
        "  df_fem.loc[df_fem[df_fem['nm_cliente'] == client].index,'frequency'] = statistics.mean(aux_list)\n",
        "  df_fem['frequency'].fillna(0,inplace = True)\n",
        "  df_fem.loc[df_fem[df_fem['nm_cliente'] == client].index,'recency'] = df_fem[df_fem['nm_cliente'] == client]['recency'].min()\n",
        "    \n",
        "#masculino\n",
        "df_masc['frequency'] = np.nan\n",
        "for client in list(df_aux_masc['nm_cliente'].unique()):\n",
        "  aux_list = []\n",
        "  for i in range(df_masc[df_masc['nm_cliente'] == client].shape[0] - 1):\n",
        "    recency = list(df_masc[df_masc['nm_cliente'] == client].sort_values(by = 'recency',ascending = False)['recency'])\n",
        "    aux_list.append(recency[i] - recency[i+1])\n",
        "  \n",
        "  df_masc.loc[df_masc[df_masc['nm_cliente'] == client].index,'frequency'] = statistics.mean(aux_list)\n",
        "  df_masc['frequency'].fillna(0,inplace = True)\n",
        "  df_masc.loc[df_masc[df_masc['nm_cliente'] == client].index,'recency'] = df_masc[df_masc['nm_cliente'] == client]['recency'].min()"
      ],
      "execution_count": 16,
      "outputs": []
    },
    {
      "cell_type": "code",
      "metadata": {
        "id": "cqfqqCqmMVEi"
      },
      "source": [
        ""
      ],
      "execution_count": 16,
      "outputs": []
    },
    {
      "cell_type": "markdown",
      "metadata": {
        "id": "bj12tXL7LKTD"
      },
      "source": [
        "## Data Pre-Processing"
      ]
    },
    {
      "cell_type": "code",
      "metadata": {
        "id": "gte_-6iVeJfg"
      },
      "source": [
        "df_masc = df_masc[['nm_cliente','recency','frequency','profit']].drop_duplicates()\n",
        "df_fem = df_fem[['nm_cliente','recency','frequency','profit']].drop_duplicates()"
      ],
      "execution_count": 17,
      "outputs": []
    },
    {
      "cell_type": "code",
      "metadata": {
        "id": "iy8SlDbFPUOv"
      },
      "source": [
        "df_final = pd.concat([df_masc,df_fem], axis = 'index')\n",
        "df = df_final.copy()"
      ],
      "execution_count": 18,
      "outputs": []
    },
    {
      "cell_type": "code",
      "metadata": {
        "id": "7J-sqvzqOCa-"
      },
      "source": [
        "#minmaxscaler\n",
        "scaler = MinMaxScaler()"
      ],
      "execution_count": 19,
      "outputs": []
    },
    {
      "cell_type": "code",
      "metadata": {
        "colab": {
          "base_uri": "https://localhost:8080/"
        },
        "id": "F1zwViP5OCdn",
        "outputId": "d46245dd-3e23-4abe-ed26-05e441ce0215"
      },
      "source": [
        "df_scaler = scaler.fit_transform(df.iloc[:,1:])\n",
        "df_scaler"
      ],
      "execution_count": 20,
      "outputs": [
        {
          "output_type": "execute_result",
          "data": {
            "text/plain": [
              "array([[0.1017192 , 0.94135338, 0.58933405],\n",
              "       [0.10601719, 0.        , 0.58708959],\n",
              "       [0.1017192 , 0.        , 0.49723683],\n",
              "       ...,\n",
              "       [0.65472779, 0.        , 0.49833237],\n",
              "       [0.68338109, 0.        , 0.49650066],\n",
              "       [0.71776504, 0.        , 0.5003605 ]])"
            ]
          },
          "metadata": {
            "tags": []
          },
          "execution_count": 20
        }
      ]
    },
    {
      "cell_type": "markdown",
      "metadata": {
        "id": "60XF6TcjSs00"
      },
      "source": [
        "## Algorithm"
      ]
    },
    {
      "cell_type": "code",
      "metadata": {
        "id": "v-eWcYxAOCgi"
      },
      "source": [
        "Sum_of_squared_distances = []\n",
        "K = range(1,10)\n",
        "for k in K:\n",
        "  kmeans = KMeans(n_clusters=k, random_state=0).fit(df_scaler)\n",
        "  Sum_of_squared_distances.append(kmeans.inertia_)"
      ],
      "execution_count": 21,
      "outputs": []
    },
    {
      "cell_type": "code",
      "metadata": {
        "colab": {
          "base_uri": "https://localhost:8080/",
          "height": 542
        },
        "id": "Oa5rMRIwTQOB",
        "outputId": "470a0d59-55d4-4520-968b-f925faf62b80"
      },
      "source": [
        "fig = go.Figure(data=go.Scatter(x=list(K), y=Sum_of_squared_distances))\n",
        "fig.show()"
      ],
      "execution_count": 22,
      "outputs": [
        {
          "output_type": "display_data",
          "data": {
            "text/html": [
              "<html>\n",
              "<head><meta charset=\"utf-8\" /></head>\n",
              "<body>\n",
              "    <div>\n",
              "            <script src=\"https://cdnjs.cloudflare.com/ajax/libs/mathjax/2.7.5/MathJax.js?config=TeX-AMS-MML_SVG\"></script><script type=\"text/javascript\">if (window.MathJax) {MathJax.Hub.Config({SVG: {font: \"STIX-Web\"}});}</script>\n",
              "                <script type=\"text/javascript\">window.PlotlyConfig = {MathJaxConfig: 'local'};</script>\n",
              "        <script src=\"https://cdn.plot.ly/plotly-latest.min.js\"></script>    \n",
              "            <div id=\"8a165a05-d86e-48e3-91ff-6ce3d15a4245\" class=\"plotly-graph-div\" style=\"height:525px; width:100%;\"></div>\n",
              "            <script type=\"text/javascript\">\n",
              "                \n",
              "                    window.PLOTLYENV=window.PLOTLYENV || {};\n",
              "                    \n",
              "                if (document.getElementById(\"8a165a05-d86e-48e3-91ff-6ce3d15a4245\")) {\n",
              "                    Plotly.newPlot(\n",
              "                        '8a165a05-d86e-48e3-91ff-6ce3d15a4245',\n",
              "                        [{\"type\": \"scatter\", \"x\": [1, 2, 3, 4, 5, 6, 7, 8, 9], \"y\": [255.5924260674234, 83.73759953682226, 50.5923827670137, 29.698819914282268, 24.982616663318094, 21.59337204277221, 18.307210212046243, 15.838456623345868, 13.914054654299058]}],\n",
              "                        {\"template\": {\"data\": {\"bar\": [{\"error_x\": {\"color\": \"#2a3f5f\"}, \"error_y\": {\"color\": \"#2a3f5f\"}, \"marker\": {\"line\": {\"color\": \"#E5ECF6\", \"width\": 0.5}}, \"type\": \"bar\"}], \"barpolar\": [{\"marker\": {\"line\": {\"color\": \"#E5ECF6\", \"width\": 0.5}}, \"type\": \"barpolar\"}], \"carpet\": [{\"aaxis\": {\"endlinecolor\": \"#2a3f5f\", \"gridcolor\": \"white\", \"linecolor\": \"white\", \"minorgridcolor\": \"white\", \"startlinecolor\": \"#2a3f5f\"}, \"baxis\": {\"endlinecolor\": \"#2a3f5f\", \"gridcolor\": \"white\", \"linecolor\": \"white\", \"minorgridcolor\": \"white\", \"startlinecolor\": \"#2a3f5f\"}, \"type\": \"carpet\"}], \"choropleth\": [{\"colorbar\": {\"outlinewidth\": 0, \"ticks\": \"\"}, \"type\": \"choropleth\"}], \"contour\": [{\"colorbar\": {\"outlinewidth\": 0, \"ticks\": \"\"}, \"colorscale\": [[0.0, \"#0d0887\"], [0.1111111111111111, \"#46039f\"], [0.2222222222222222, \"#7201a8\"], [0.3333333333333333, \"#9c179e\"], [0.4444444444444444, \"#bd3786\"], [0.5555555555555556, \"#d8576b\"], [0.6666666666666666, \"#ed7953\"], [0.7777777777777778, \"#fb9f3a\"], [0.8888888888888888, \"#fdca26\"], [1.0, \"#f0f921\"]], \"type\": \"contour\"}], \"contourcarpet\": [{\"colorbar\": {\"outlinewidth\": 0, \"ticks\": \"\"}, \"type\": \"contourcarpet\"}], \"heatmap\": [{\"colorbar\": {\"outlinewidth\": 0, \"ticks\": \"\"}, \"colorscale\": [[0.0, \"#0d0887\"], [0.1111111111111111, \"#46039f\"], [0.2222222222222222, \"#7201a8\"], [0.3333333333333333, \"#9c179e\"], [0.4444444444444444, \"#bd3786\"], [0.5555555555555556, \"#d8576b\"], [0.6666666666666666, \"#ed7953\"], [0.7777777777777778, \"#fb9f3a\"], [0.8888888888888888, \"#fdca26\"], [1.0, \"#f0f921\"]], \"type\": \"heatmap\"}], \"heatmapgl\": [{\"colorbar\": {\"outlinewidth\": 0, \"ticks\": \"\"}, \"colorscale\": [[0.0, \"#0d0887\"], [0.1111111111111111, \"#46039f\"], [0.2222222222222222, \"#7201a8\"], [0.3333333333333333, \"#9c179e\"], [0.4444444444444444, \"#bd3786\"], [0.5555555555555556, \"#d8576b\"], [0.6666666666666666, \"#ed7953\"], [0.7777777777777778, \"#fb9f3a\"], [0.8888888888888888, \"#fdca26\"], [1.0, \"#f0f921\"]], \"type\": \"heatmapgl\"}], \"histogram\": [{\"marker\": {\"colorbar\": {\"outlinewidth\": 0, \"ticks\": \"\"}}, \"type\": \"histogram\"}], \"histogram2d\": [{\"colorbar\": {\"outlinewidth\": 0, \"ticks\": \"\"}, \"colorscale\": [[0.0, \"#0d0887\"], [0.1111111111111111, \"#46039f\"], [0.2222222222222222, \"#7201a8\"], [0.3333333333333333, \"#9c179e\"], [0.4444444444444444, \"#bd3786\"], [0.5555555555555556, \"#d8576b\"], [0.6666666666666666, \"#ed7953\"], [0.7777777777777778, \"#fb9f3a\"], [0.8888888888888888, \"#fdca26\"], [1.0, \"#f0f921\"]], \"type\": \"histogram2d\"}], \"histogram2dcontour\": [{\"colorbar\": {\"outlinewidth\": 0, \"ticks\": \"\"}, \"colorscale\": [[0.0, \"#0d0887\"], [0.1111111111111111, \"#46039f\"], [0.2222222222222222, \"#7201a8\"], [0.3333333333333333, \"#9c179e\"], [0.4444444444444444, \"#bd3786\"], [0.5555555555555556, \"#d8576b\"], [0.6666666666666666, \"#ed7953\"], [0.7777777777777778, \"#fb9f3a\"], [0.8888888888888888, \"#fdca26\"], [1.0, \"#f0f921\"]], \"type\": \"histogram2dcontour\"}], \"mesh3d\": [{\"colorbar\": {\"outlinewidth\": 0, \"ticks\": \"\"}, \"type\": \"mesh3d\"}], \"parcoords\": [{\"line\": {\"colorbar\": {\"outlinewidth\": 0, \"ticks\": \"\"}}, \"type\": \"parcoords\"}], \"pie\": [{\"automargin\": true, \"type\": \"pie\"}], \"scatter\": [{\"marker\": {\"colorbar\": {\"outlinewidth\": 0, \"ticks\": \"\"}}, \"type\": \"scatter\"}], \"scatter3d\": [{\"line\": {\"colorbar\": {\"outlinewidth\": 0, \"ticks\": \"\"}}, \"marker\": {\"colorbar\": {\"outlinewidth\": 0, \"ticks\": \"\"}}, \"type\": \"scatter3d\"}], \"scattercarpet\": [{\"marker\": {\"colorbar\": {\"outlinewidth\": 0, \"ticks\": \"\"}}, \"type\": \"scattercarpet\"}], \"scattergeo\": [{\"marker\": {\"colorbar\": {\"outlinewidth\": 0, \"ticks\": \"\"}}, \"type\": \"scattergeo\"}], \"scattergl\": [{\"marker\": {\"colorbar\": {\"outlinewidth\": 0, \"ticks\": \"\"}}, \"type\": \"scattergl\"}], \"scattermapbox\": [{\"marker\": {\"colorbar\": {\"outlinewidth\": 0, \"ticks\": \"\"}}, \"type\": \"scattermapbox\"}], \"scatterpolar\": [{\"marker\": {\"colorbar\": {\"outlinewidth\": 0, \"ticks\": \"\"}}, \"type\": \"scatterpolar\"}], \"scatterpolargl\": [{\"marker\": {\"colorbar\": {\"outlinewidth\": 0, \"ticks\": \"\"}}, \"type\": \"scatterpolargl\"}], \"scatterternary\": [{\"marker\": {\"colorbar\": {\"outlinewidth\": 0, \"ticks\": \"\"}}, \"type\": \"scatterternary\"}], \"surface\": [{\"colorbar\": {\"outlinewidth\": 0, \"ticks\": \"\"}, \"colorscale\": [[0.0, \"#0d0887\"], [0.1111111111111111, \"#46039f\"], [0.2222222222222222, \"#7201a8\"], [0.3333333333333333, \"#9c179e\"], [0.4444444444444444, \"#bd3786\"], [0.5555555555555556, \"#d8576b\"], [0.6666666666666666, \"#ed7953\"], [0.7777777777777778, \"#fb9f3a\"], [0.8888888888888888, \"#fdca26\"], [1.0, \"#f0f921\"]], \"type\": \"surface\"}], \"table\": [{\"cells\": {\"fill\": {\"color\": \"#EBF0F8\"}, \"line\": {\"color\": \"white\"}}, \"header\": {\"fill\": {\"color\": \"#C8D4E3\"}, \"line\": {\"color\": \"white\"}}, \"type\": \"table\"}]}, \"layout\": {\"annotationdefaults\": {\"arrowcolor\": \"#2a3f5f\", \"arrowhead\": 0, \"arrowwidth\": 1}, \"coloraxis\": {\"colorbar\": {\"outlinewidth\": 0, \"ticks\": \"\"}}, \"colorscale\": {\"diverging\": [[0, \"#8e0152\"], [0.1, \"#c51b7d\"], [0.2, \"#de77ae\"], [0.3, \"#f1b6da\"], [0.4, \"#fde0ef\"], [0.5, \"#f7f7f7\"], [0.6, \"#e6f5d0\"], [0.7, \"#b8e186\"], [0.8, \"#7fbc41\"], [0.9, \"#4d9221\"], [1, \"#276419\"]], \"sequential\": [[0.0, \"#0d0887\"], [0.1111111111111111, \"#46039f\"], [0.2222222222222222, \"#7201a8\"], [0.3333333333333333, \"#9c179e\"], [0.4444444444444444, \"#bd3786\"], [0.5555555555555556, \"#d8576b\"], [0.6666666666666666, \"#ed7953\"], [0.7777777777777778, \"#fb9f3a\"], [0.8888888888888888, \"#fdca26\"], [1.0, \"#f0f921\"]], \"sequentialminus\": [[0.0, \"#0d0887\"], [0.1111111111111111, \"#46039f\"], [0.2222222222222222, \"#7201a8\"], [0.3333333333333333, \"#9c179e\"], [0.4444444444444444, \"#bd3786\"], [0.5555555555555556, \"#d8576b\"], [0.6666666666666666, \"#ed7953\"], [0.7777777777777778, \"#fb9f3a\"], [0.8888888888888888, \"#fdca26\"], [1.0, \"#f0f921\"]]}, \"colorway\": [\"#636efa\", \"#EF553B\", \"#00cc96\", \"#ab63fa\", \"#FFA15A\", \"#19d3f3\", \"#FF6692\", \"#B6E880\", \"#FF97FF\", \"#FECB52\"], \"font\": {\"color\": \"#2a3f5f\"}, \"geo\": {\"bgcolor\": \"white\", \"lakecolor\": \"white\", \"landcolor\": \"#E5ECF6\", \"showlakes\": true, \"showland\": true, \"subunitcolor\": \"white\"}, \"hoverlabel\": {\"align\": \"left\"}, \"hovermode\": \"closest\", \"mapbox\": {\"style\": \"light\"}, \"paper_bgcolor\": \"white\", \"plot_bgcolor\": \"#E5ECF6\", \"polar\": {\"angularaxis\": {\"gridcolor\": \"white\", \"linecolor\": \"white\", \"ticks\": \"\"}, \"bgcolor\": \"#E5ECF6\", \"radialaxis\": {\"gridcolor\": \"white\", \"linecolor\": \"white\", \"ticks\": \"\"}}, \"scene\": {\"xaxis\": {\"backgroundcolor\": \"#E5ECF6\", \"gridcolor\": \"white\", \"gridwidth\": 2, \"linecolor\": \"white\", \"showbackground\": true, \"ticks\": \"\", \"zerolinecolor\": \"white\"}, \"yaxis\": {\"backgroundcolor\": \"#E5ECF6\", \"gridcolor\": \"white\", \"gridwidth\": 2, \"linecolor\": \"white\", \"showbackground\": true, \"ticks\": \"\", \"zerolinecolor\": \"white\"}, \"zaxis\": {\"backgroundcolor\": \"#E5ECF6\", \"gridcolor\": \"white\", \"gridwidth\": 2, \"linecolor\": \"white\", \"showbackground\": true, \"ticks\": \"\", \"zerolinecolor\": \"white\"}}, \"shapedefaults\": {\"line\": {\"color\": \"#2a3f5f\"}}, \"ternary\": {\"aaxis\": {\"gridcolor\": \"white\", \"linecolor\": \"white\", \"ticks\": \"\"}, \"baxis\": {\"gridcolor\": \"white\", \"linecolor\": \"white\", \"ticks\": \"\"}, \"bgcolor\": \"#E5ECF6\", \"caxis\": {\"gridcolor\": \"white\", \"linecolor\": \"white\", \"ticks\": \"\"}}, \"title\": {\"x\": 0.05}, \"xaxis\": {\"automargin\": true, \"gridcolor\": \"white\", \"linecolor\": \"white\", \"ticks\": \"\", \"title\": {\"standoff\": 15}, \"zerolinecolor\": \"white\", \"zerolinewidth\": 2}, \"yaxis\": {\"automargin\": true, \"gridcolor\": \"white\", \"linecolor\": \"white\", \"ticks\": \"\", \"title\": {\"standoff\": 15}, \"zerolinecolor\": \"white\", \"zerolinewidth\": 2}}}},\n",
              "                        {\"responsive\": true}\n",
              "                    ).then(function(){\n",
              "                            \n",
              "var gd = document.getElementById('8a165a05-d86e-48e3-91ff-6ce3d15a4245');\n",
              "var x = new MutationObserver(function (mutations, observer) {{\n",
              "        var display = window.getComputedStyle(gd).display;\n",
              "        if (!display || display === 'none') {{\n",
              "            console.log([gd, 'removed!']);\n",
              "            Plotly.purge(gd);\n",
              "            observer.disconnect();\n",
              "        }}\n",
              "}});\n",
              "\n",
              "// Listen for the removal of the full notebook cells\n",
              "var notebookContainer = gd.closest('#notebook-container');\n",
              "if (notebookContainer) {{\n",
              "    x.observe(notebookContainer, {childList: true});\n",
              "}}\n",
              "\n",
              "// Listen for the clearing of the current output cell\n",
              "var outputEl = gd.closest('.output');\n",
              "if (outputEl) {{\n",
              "    x.observe(outputEl, {childList: true});\n",
              "}}\n",
              "\n",
              "                        })\n",
              "                };\n",
              "                \n",
              "            </script>\n",
              "        </div>\n",
              "</body>\n",
              "</html>"
            ]
          },
          "metadata": {
            "tags": []
          }
        }
      ]
    },
    {
      "cell_type": "code",
      "metadata": {
        "id": "gMvUUj5JNwlI"
      },
      "source": [
        "kmeans = KMeans(n_clusters=3, random_state=0).fit(df_scaler)"
      ],
      "execution_count": 23,
      "outputs": []
    },
    {
      "cell_type": "code",
      "metadata": {
        "colab": {
          "base_uri": "https://localhost:8080/"
        },
        "id": "2j39w_FEem34",
        "outputId": "5892bc1e-b799-46db-d8a9-aeaec4cddd6b"
      },
      "source": [
        "kmeans.predict(df_scaler)"
      ],
      "execution_count": 24,
      "outputs": [
        {
          "output_type": "execute_result",
          "data": {
            "text/plain": [
              "array([2, 1, 1, ..., 0, 0, 0], dtype=int32)"
            ]
          },
          "metadata": {
            "tags": []
          },
          "execution_count": 24
        }
      ]
    },
    {
      "cell_type": "code",
      "metadata": {
        "colab": {
          "base_uri": "https://localhost:8080/",
          "height": 419
        },
        "id": "DRh2cYMmep9d",
        "outputId": "de52a61b-a9a6-4775-e7a6-5a7d891cbc23"
      },
      "source": [
        "df['cluster'] = list(kmeans.predict(df_scaler))\n",
        "df"
      ],
      "execution_count": 26,
      "outputs": [
        {
          "output_type": "execute_result",
          "data": {
            "text/html": [
              "<div>\n",
              "<style scoped>\n",
              "    .dataframe tbody tr th:only-of-type {\n",
              "        vertical-align: middle;\n",
              "    }\n",
              "\n",
              "    .dataframe tbody tr th {\n",
              "        vertical-align: top;\n",
              "    }\n",
              "\n",
              "    .dataframe thead th {\n",
              "        text-align: right;\n",
              "    }\n",
              "</style>\n",
              "<table border=\"1\" class=\"dataframe\">\n",
              "  <thead>\n",
              "    <tr style=\"text-align: right;\">\n",
              "      <th></th>\n",
              "      <th>nm_cliente</th>\n",
              "      <th>recency</th>\n",
              "      <th>frequency</th>\n",
              "      <th>profit</th>\n",
              "      <th>cluster</th>\n",
              "    </tr>\n",
              "  </thead>\n",
              "  <tbody>\n",
              "    <tr>\n",
              "      <th>0</th>\n",
              "      <td>a73944e9e484d52773704d3b7096b66766fe08ecd09e50...</td>\n",
              "      <td>70</td>\n",
              "      <td>626.0</td>\n",
              "      <td>2641.94</td>\n",
              "      <td>2</td>\n",
              "    </tr>\n",
              "    <tr>\n",
              "      <th>63</th>\n",
              "      <td>bd3aa9a41e0822c57865a9c1715b3056610007a3ad4642...</td>\n",
              "      <td>73</td>\n",
              "      <td>0.0</td>\n",
              "      <td>2578.86</td>\n",
              "      <td>1</td>\n",
              "    </tr>\n",
              "    <tr>\n",
              "      <th>100</th>\n",
              "      <td>e66f2a1d5ab9b26dfc315f5d3093a2bf1f7129e53c3157...</td>\n",
              "      <td>70</td>\n",
              "      <td>0.0</td>\n",
              "      <td>53.57</td>\n",
              "      <td>1</td>\n",
              "    </tr>\n",
              "    <tr>\n",
              "      <th>123</th>\n",
              "      <td>152d5597f43f315cbf81a70bc7dfdc45225f8db73154b3...</td>\n",
              "      <td>70</td>\n",
              "      <td>73.0</td>\n",
              "      <td>3115.22</td>\n",
              "      <td>1</td>\n",
              "    </tr>\n",
              "    <tr>\n",
              "      <th>189</th>\n",
              "      <td>2872c3848dad4b363c23db24183a6c45c2df41bff285f1...</td>\n",
              "      <td>70</td>\n",
              "      <td>0.0</td>\n",
              "      <td>93.96</td>\n",
              "      <td>1</td>\n",
              "    </tr>\n",
              "    <tr>\n",
              "      <th>...</th>\n",
              "      <td>...</td>\n",
              "      <td>...</td>\n",
              "      <td>...</td>\n",
              "      <td>...</td>\n",
              "      <td>...</td>\n",
              "    </tr>\n",
              "    <tr>\n",
              "      <th>72444</th>\n",
              "      <td>e59c0940c1a47db2ba764b46893b268f0264d4468d88d1...</td>\n",
              "      <td>667</td>\n",
              "      <td>0.0</td>\n",
              "      <td>65.38</td>\n",
              "      <td>0</td>\n",
              "    </tr>\n",
              "    <tr>\n",
              "      <th>72475</th>\n",
              "      <td>9e7e36e2e1e2e34c8e90e3f6681f50cdde257df5930d2d...</td>\n",
              "      <td>476</td>\n",
              "      <td>0.0</td>\n",
              "      <td>98.41</td>\n",
              "      <td>0</td>\n",
              "    </tr>\n",
              "    <tr>\n",
              "      <th>72515</th>\n",
              "      <td>0946edd1602d1b9b7e240ed34a7d37278ed268b241114a...</td>\n",
              "      <td>456</td>\n",
              "      <td>0.0</td>\n",
              "      <td>84.36</td>\n",
              "      <td>0</td>\n",
              "    </tr>\n",
              "    <tr>\n",
              "      <th>72556</th>\n",
              "      <td>f25e1de98f033b3d31c6ac8d069610307e7d421ae80e91...</td>\n",
              "      <td>476</td>\n",
              "      <td>0.0</td>\n",
              "      <td>32.88</td>\n",
              "      <td>0</td>\n",
              "    </tr>\n",
              "    <tr>\n",
              "      <th>72582</th>\n",
              "      <td>87518198806a6c50f55485f1423a9342697349e513f49c...</td>\n",
              "      <td>500</td>\n",
              "      <td>0.0</td>\n",
              "      <td>141.36</td>\n",
              "      <td>0</td>\n",
              "    </tr>\n",
              "  </tbody>\n",
              "</table>\n",
              "<p>3043 rows × 5 columns</p>\n",
              "</div>"
            ],
            "text/plain": [
              "                                              nm_cliente  ...  cluster\n",
              "0      a73944e9e484d52773704d3b7096b66766fe08ecd09e50...  ...        2\n",
              "63     bd3aa9a41e0822c57865a9c1715b3056610007a3ad4642...  ...        1\n",
              "100    e66f2a1d5ab9b26dfc315f5d3093a2bf1f7129e53c3157...  ...        1\n",
              "123    152d5597f43f315cbf81a70bc7dfdc45225f8db73154b3...  ...        1\n",
              "189    2872c3848dad4b363c23db24183a6c45c2df41bff285f1...  ...        1\n",
              "...                                                  ...  ...      ...\n",
              "72444  e59c0940c1a47db2ba764b46893b268f0264d4468d88d1...  ...        0\n",
              "72475  9e7e36e2e1e2e34c8e90e3f6681f50cdde257df5930d2d...  ...        0\n",
              "72515  0946edd1602d1b9b7e240ed34a7d37278ed268b241114a...  ...        0\n",
              "72556  f25e1de98f033b3d31c6ac8d069610307e7d421ae80e91...  ...        0\n",
              "72582  87518198806a6c50f55485f1423a9342697349e513f49c...  ...        0\n",
              "\n",
              "[3043 rows x 5 columns]"
            ]
          },
          "metadata": {
            "tags": []
          },
          "execution_count": 26
        }
      ]
    },
    {
      "cell_type": "code",
      "metadata": {
        "id": "R_yU-EkOe6i3"
      },
      "source": [
        "df.to_csv('/content/drive/MyDrive/Personal Project/Upperbag/Data/Clean/cluster.csv',index=False)"
      ],
      "execution_count": 27,
      "outputs": []
    },
    {
      "cell_type": "code",
      "metadata": {
        "id": "Q9xAHphZfP4A"
      },
      "source": [
        ""
      ],
      "execution_count": null,
      "outputs": []
    }
  ]
}